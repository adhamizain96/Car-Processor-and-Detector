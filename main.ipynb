{
 "cells": [
  {
   "cell_type": "code",
   "execution_count": null,
   "id": "16aa61db",
   "metadata": {},
   "outputs": [],
   "source": [
    "#note - cv2 documentation - https://pypi.org/project/opencv-python/\n",
    "import cv2   \n",
    "import numpy\n",
    "\n",
    "#note - cars_xml - https://gist.github.com/199995/37e1e0af2bf8965e8058a9dfa3285bc6\n",
    "cars_xml = 'cars.xml'     \n",
    "car_video = 'car_video.mp4'   \n",
    "   \n",
    "def detect_cars(car_video):\n",
    "    #note - cv2.CascadeClassifier - https://docs.opencv.org/3.4/db/d28/tutorial_cascade_classifier.html\n",
    "    cars_cascade = cv2.CascadeClassifier(cars_xml)\n",
    "    car_video_capture = cv2.VideoCapture(car_video)\n",
    "    #note - extracting frames from a video using opencv and python - https://stackoverflow.com/questions/36701608/extracting-frames-from-a-video-using-opencv-and-python \n",
    "    if car_video_capture.isOpened():\n",
    "        rval, frame = car_video_capture.read()\n",
    "    else:\n",
    "        rval = False   \n",
    "        \n",
    "    while rval:   \n",
    "        rval, frame = car_video_capture.read()\n",
    "        frameHeight, frameWidth, framedepth = frame.shape\n",
    "        frame = cv2.resize(frame, (500, 500))\n",
    "        gray = cv2.cvtColor(frame, cv2.COLOR_BGR2GRAY)\n",
    "        #note - cv2.detectMultiScale - https://docs.opencv.org/3.4/d1/de5/classcv_1_1CascadeClassifier.html#aaf8181cb63968136476ec4204ffca498\n",
    "        #note - cv2.detectMultiScale (parameters) - minSize()/maxSize()\n",
    "        cars_cars = cars_cascade.detectMultiScale(gray, 1.5, 4)  \n",
    "        \n",
    "        for (x, y, w, h) in cars_cars:\n",
    "            #note - cv2.rectangle (parameters) - https://docs.opencv.org/4.x/d6/d6e/group__imgproc__draw.html#ga07d2f74cadcf8e305e810ce8eed13bc9\n",
    "            cv2.rectangle(frame, (x,y), (x+2, y+h), (0, 0, 255), 2)\n",
    "        cv2.imshow('Cars in Traffic', frame)\n",
    "        \n",
    "        if cv2.waitKey(1) == ord('q'):\n",
    "            break\n",
    "            \n",
    "detect_cars(car_video)   "
   ]
  },
  {
   "cell_type": "code",
   "execution_count": null,
   "id": "e76b5ffd",
   "metadata": {},
   "outputs": [],
   "source": []
  }
 ],
 "metadata": {
  "kernelspec": {
   "display_name": "Python 3",
   "language": "python",
   "name": "python3"
  },
  "language_info": {
   "codemirror_mode": {
    "name": "ipython",
    "version": 3
   },
   "file_extension": ".py",
   "mimetype": "text/x-python",
   "name": "python",
   "nbconvert_exporter": "python",
   "pygments_lexer": "ipython3",
   "version": "3.8.8"
  }
 },
 "nbformat": 4,
 "nbformat_minor": 5
}
